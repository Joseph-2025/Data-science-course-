{
 "cells": [
  {
   "cell_type": "code",
   "execution_count": 14,
   "metadata": {},
   "outputs": [
    {
     "name": "stdout",
     "output_type": "stream",
     "text": [
      "[ 1  2  3  4  5  6  7  8  9 10 11 12]\n",
      "1\n",
      "2\n",
      "3\n",
      "[ 6  7  8  9 10 11 12]\n",
      "[1 2 3 4 5]\n",
      "[12 13 14 15 16 17 18 19 20 21 22 22 23 24 25 26 27 28 29 30 31 32]\n",
      "[1 2 3 4 5]\n",
      "int32\n"
     ]
    }
   ],
   "source": [
    "#trying out numpy \n",
    "import numpy as np\n",
    "arr = np.array([1,2,3,4,5,6,7,8,9,10,11,12])\n",
    "print(arr)\n",
    "\n",
    "arr =np.array([1,2,3,4,5])\n",
    "print(arr[0])\n",
    "print(arr[1])\n",
    "print(arr[2])\n",
    "\n",
    "#slicing an array \n",
    "arr1= np.array([1,2,3,4,5,6,7,8,9,10,11,12])\n",
    "print(arr1[5:])\n",
    "print(arr1[:5])\n",
    "\n",
    "#joing Two arrays using Pandas \n",
    "arr2 = np.array([12,13,14,15,16,17,18,19,20,21,22])\n",
    "arr3 = np.array([22,23,24,25,26,27,28,29,30,31,32])\n",
    "arrTotal =np.concatenate((arr2,arr3))\n",
    "print(arrTotal)\n",
    "\n",
    "#Converting data type with numpy\n",
    "arrfloat = np.array([1.2,2.3,4.5])\n",
    "newarr = arr.astype('i')\n",
    "print(newarr)\n",
    "print(newarr.dtype)\n",
    "\n",
    "\n",
    "\n"
   ]
  },
  {
   "cell_type": "code",
   "execution_count": 20,
   "metadata": {},
   "outputs": [
    {
     "name": "stdout",
     "output_type": "stream",
     "text": [
      "      calories  duration\n",
      "day1       420        20\n",
      "day2       380        30\n",
      "day3       390        40\n",
      "day4       100        10\n",
      "day5       890        70\n",
      "day6       190        81\n"
     ]
    }
   ],
   "source": [
    "#pandas is a python frame library used to create data frames \n",
    "#trying Out Pandas \n",
    "import pandas as pd\n",
    "data ={\n",
    "    \"calories\":[420,380,390,100,890,190], \n",
    "    \"duration\":[20,30,40,10,70,81] \n",
    "}\n",
    "\n",
    "df = pd.DataFrame(data, index=[\"day1\",\"day2\",\"day3\",\"day4\",\"day5\",\"day6\"])\n",
    "\n",
    "print(df)"
   ]
  }
 ],
 "metadata": {
  "kernelspec": {
   "display_name": "venv",
   "language": "python",
   "name": "python3"
  },
  "language_info": {
   "codemirror_mode": {
    "name": "ipython",
    "version": 3
   },
   "file_extension": ".py",
   "mimetype": "text/x-python",
   "name": "python",
   "nbconvert_exporter": "python",
   "pygments_lexer": "ipython3",
   "version": "3.11.9"
  }
 },
 "nbformat": 4,
 "nbformat_minor": 2
}

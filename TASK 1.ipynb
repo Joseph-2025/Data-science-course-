{
 "cells": [
  {
   "cell_type": "code",
   "execution_count": 5,
   "metadata": {},
   "outputs": [
    {
     "name": "stdout",
     "output_type": "stream",
     "text": [
      "[ 1  2  3  4  5  6  7  8  9 10 11 12]\n",
      "1\n",
      "2\n",
      "3\n",
      "[ 6  7  8  9 10 11 12]\n",
      "[1 2 3 4 5]\n"
     ]
    }
   ],
   "source": [
    "#trying out numpy \n",
    "import numpy as np\n",
    "arr = np.array([1,2,3,4,5,6,7,8,9,10,11,12])\n",
    "print(arr)\n",
    "\n",
    "arr =np.array([1,2,3,4,5])\n",
    "print(arr[0])\n",
    "print(arr[1])\n",
    "print(arr[2])\n",
    "\n",
    "#slicing an array \n",
    "arr1= np.array([1,2,3,4,5,6,7,8,9,10,11,12])\n",
    "print(arr1[5:])\n",
    "print(arr1[:5])\n",
    "\n",
    "#joing Two arrays using Pandas \n",
    "\n"
   ]
  },
  {
   "cell_type": "code",
   "execution_count": null,
   "metadata": {},
   "outputs": [],
   "source": []
  }
 ],
 "metadata": {
  "kernelspec": {
   "display_name": "venv",
   "language": "python",
   "name": "python3"
  },
  "language_info": {
   "codemirror_mode": {
    "name": "ipython",
    "version": 3
   },
   "file_extension": ".py",
   "mimetype": "text/x-python",
   "name": "python",
   "nbconvert_exporter": "python",
   "pygments_lexer": "ipython3",
   "version": "3.11.9"
  }
 },
 "nbformat": 4,
 "nbformat_minor": 2
}
